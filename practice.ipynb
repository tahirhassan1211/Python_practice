{
 "cells": [
  {
   "cell_type": "markdown",
   "metadata": {},
   "source": [
    "# Topic: print()"
   ]
  },
  {
   "cell_type": "markdown",
   "metadata": {},
   "source": [
    "1) Using the python print function print any string value, integer value, boolean value, float value in single print command"
   ]
  },
  {
   "cell_type": "code",
   "execution_count": 4,
   "metadata": {},
   "outputs": [
    {
     "name": "stdout",
     "output_type": "stream",
     "text": [
      "The Vakues are :\n",
      " 23 \n",
      " 3.14 \n",
      " University \n",
      " True\n"
     ]
    }
   ],
   "source": [
    "a=23\n",
    "b=3.14\n",
    "c=\"University\"\n",
    "print(\"The Values are :\\n\",a, \"\\n\",b,\"\\n\",c,\"\\n\",a>b)\n"
   ]
  },
  {
   "cell_type": "markdown",
   "metadata": {},
   "source": [
    "2) Using the python print function print hyphon(-) separated any string value, integer value, boolean value, float value in single print command"
   ]
  },
  {
   "cell_type": "code",
   "execution_count": 27,
   "metadata": {},
   "outputs": [
    {
     "name": "stdout",
     "output_type": "stream",
     "text": [
      "The Values are : 23 - 3.14 - University - False\n",
      "Ssuet-3-3.14-False\n"
     ]
    }
   ],
   "source": [
    "a=23\n",
    "b=3.14\n",
    "c=\"University\"\n",
    "print(\"The Values are :\",a,\"-\",b,\"-\",c,\"-\",a<b )\n",
    "print(\"Ssuet\",3,3.14,False,sep='-')\n",
    "\n"
   ]
  },
  {
   "cell_type": "markdown",
   "metadata": {},
   "source": [
    "3) Using the python print function print any string value, integer value, boolean value, float value in separate print command.\n",
    "But every value must be space separated and in single line "
   ]
  },
  {
   "cell_type": "code",
   "execution_count": 28,
   "metadata": {},
   "outputs": [
    {
     "name": "stdout",
     "output_type": "stream",
     "text": [
      "Pakistan 123 "
     ]
    }
   ],
   "source": [
    "# type your code here\n",
    "print(\"Pakistan\",end=' ')\n",
    "print(123,end=' ')"
   ]
  },
  {
   "cell_type": "code",
   "execution_count": 10,
   "metadata": {},
   "outputs": [
    {
     "name": "stdout",
     "output_type": "stream",
     "text": [
      "HelloHi\n"
     ]
    }
   ],
   "source": [
    "print(\"HelloHi\")"
   ]
  },
  {
   "cell_type": "markdown",
   "metadata": {},
   "source": [
    "4) Can a python print function take no value to print???"
   ]
  },
  {
   "cell_type": "code",
   "execution_count": 11,
   "metadata": {},
   "outputs": [
    {
     "name": "stdout",
     "output_type": "stream",
     "text": [
      "\n"
     ]
    }
   ],
   "source": [
    "Yes\n"
   ]
  },
  {
   "cell_type": "markdown",
   "metadata": {},
   "source": [
    "# TOPIC :Variables in Python Operators"
   ]
  },
  {
   "cell_type": "markdown",
   "metadata": {},
   "source": [
    "5) One of my friends name is Mr. Ahmed. He is 30 years old.  He is a lawer by profession. He has done his bachelors in law in the year 2005. He is working with a reputable law firm 'The Himalya Associates' in Karachi since 2015.\n",
    "He is a handsome lawer with height of 5.10 feets and weight 70600g. His monthly income is Rs. 200k PKR.\n",
    "\n",
    "Note: Create variables from above text and also assign values from the text.  "
   ]
  },
  {
   "cell_type": "code",
   "execution_count": 14,
   "metadata": {},
   "outputs": [
    {
     "name": "stdout",
     "output_type": "stream",
     "text": [
      "Name : Ahmed \n",
      " Age : 30 \n",
      " Profession : Lawer \n",
      " BS_Year : 2005 \n",
      " Height : 5.1 \n",
      " Weight : 70600 \n",
      " Income 200000\n"
     ]
    }
   ],
   "source": [
    "name=\"Ahmed\"\n",
    "Age=30\n",
    "profession=\"Lawer\"\n",
    "BS_Year=2005\n",
    "joining_year=2015\n",
    "height=5.10\n",
    "weight=70600\n",
    "income=200000\n",
    "print(\"Name :\",Name,\"\\n Age :\",Age,\"\\n Profession :\",profession,\"\\n BS_Year :\",BS_Year,\"\\n\",\"\\n Height :\",height,\"\\n Weight :\",weight,\"\\n Income\",income)\n"
   ]
  },
  {
   "cell_type": "markdown",
   "metadata": {},
   "source": [
    "6)How many years has been to Mr. Ahmed after his bachelors degree? Create a variable that hold current year value and then subtract it from his passout year"
   ]
  },
  {
   "cell_type": "code",
   "execution_count": 17,
   "metadata": {},
   "outputs": [
    {
     "name": "stdout",
     "output_type": "stream",
     "text": [
      "18\n"
     ]
    }
   ],
   "source": [
    "#type your code here \n",
    "current_year =2023\n",
    "passout_year=2005\n",
    "print(current_year-passout_year)"
   ]
  },
  {
   "cell_type": "markdown",
   "metadata": {},
   "source": [
    "7) How many years has Mr. Ahmed been working with law firm 'The Himalya Associates'. Create necesary variables and print the correct number of years in working in the firm"
   ]
  },
  {
   "cell_type": "code",
   "execution_count": 21,
   "metadata": {},
   "outputs": [
    {
     "name": "stdout",
     "output_type": "stream",
     "text": [
      "Mr Ahmed's  Working Tenure is : 8\n"
     ]
    }
   ],
   "source": [
    "joining_year=2015\n",
    "current_year =2023\n",
    "print(\"Mr Ahmed's  Working Tenure is :\",current_year-joining_year)\n",
    "\n"
   ]
  },
  {
   "cell_type": "markdown",
   "metadata": {},
   "source": [
    "8)Convert the monthly income of Mr. Ahmed in dollars.  Create necesary variables and print the income in dollars."
   ]
  },
  {
   "cell_type": "code",
   "execution_count": 37,
   "metadata": {},
   "outputs": [
    {
     "name": "stdout",
     "output_type": "stream",
     "text": [
      "Mr Ahmed Income in Dollar is :  701.8\n"
     ]
    }
   ],
   "source": [
    "income=200000\n",
    "dollar_rate=285\n",
    "income_usd=income/dollar_rate\n",
    "print(\"Mr Ahmed Income in Dollar is : \", round(income_usd,1))\n"
   ]
  },
  {
   "cell_type": "markdown",
   "metadata": {},
   "source": [
    "9) Check if the income in dollars is a float or integer value. if it is float, re-write the code so that income gets converted in integer. print the income in integer type value"
   ]
  },
  {
   "cell_type": "code",
   "execution_count": 46,
   "metadata": {},
   "outputs": [
    {
     "name": "stdout",
     "output_type": "stream",
     "text": [
      "<class 'float'>\n",
      "Income in float Value :  701.7543859649123\n",
      "Income in integer Value :  701\n"
     ]
    }
   ],
   "source": [
    "print(type(income_usd))\n",
    "if(type=='')\n",
    "print(\"Income in float Value : \",income_usd)\n",
    "print(\"Income in integer Value : \",int(income_usd))\n"
   ]
  },
  {
   "cell_type": "raw",
   "metadata": {},
   "source": [
    "10) Print the type of Mr. Ahmed's weight.  Convert the weight of Mr. Ahmed in kg so that weight must be a integer value. "
   ]
  },
  {
   "cell_type": "code",
   "execution_count": 25,
   "metadata": {},
   "outputs": [
    {
     "name": "stdout",
     "output_type": "stream",
     "text": [
      "<class 'int'>\n",
      "The Weight in Kilograms is : 70.6\n"
     ]
    }
   ],
   "source": [
    "print(type(weight))\n",
    "a=1000\n",
    "print(\"The Weight in Kilograms is :\", weight/a)"
   ]
  },
  {
   "cell_type": "raw",
   "metadata": {},
   "source": [
    "11) print the year of birth of Mr. Ahmed."
   ]
  },
  {
   "cell_type": "code",
   "execution_count": 26,
   "metadata": {},
   "outputs": [
    {
     "name": "stdout",
     "output_type": "stream",
     "text": [
      "Birth Year is : 1993\n"
     ]
    }
   ],
   "source": [
    "print(\"Birth Year is :\",current_year-Age)"
   ]
  },
  {
   "cell_type": "markdown",
   "metadata": {},
   "source": [
    "12) Can Rs. 100 be divided equally among 6 students? \n",
    "HINT: % operator"
   ]
  },
  {
   "cell_type": "code",
   "execution_count": 45,
   "metadata": {},
   "outputs": [
    {
     "name": "stdout",
     "output_type": "stream",
     "text": [
      "16\n",
      "4\n"
     ]
    }
   ],
   "source": [
    "x=100\n",
    "y=6\n",
    "print(x//y )\n",
    "print(x%y )"
   ]
  },
  {
   "cell_type": "code",
   "execution_count": null,
   "metadata": {},
   "outputs": [],
   "source": []
  }
 ],
 "metadata": {
  "kernelspec": {
   "display_name": "Python 3",
   "language": "python",
   "name": "python3"
  },
  "language_info": {
   "codemirror_mode": {
    "name": "ipython",
    "version": 3
   },
   "file_extension": ".py",
   "mimetype": "text/x-python",
   "name": "python",
   "nbconvert_exporter": "python",
   "pygments_lexer": "ipython3",
   "version": "3.7.4"
  }
 },
 "nbformat": 4,
 "nbformat_minor": 2
}
