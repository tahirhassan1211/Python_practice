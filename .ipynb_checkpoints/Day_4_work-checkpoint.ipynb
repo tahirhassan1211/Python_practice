{
 "cells": [
  {
   "cell_type": "markdown",
   "metadata": {},
   "source": [
    "## Control Statements"
   ]
  },
  {
   "cell_type": "code",
   "execution_count": 1,
   "metadata": {},
   "outputs": [],
   "source": [
    "#if   #else   # elif "
   ]
  },
  {
   "cell_type": "code",
   "execution_count": 1,
   "metadata": {},
   "outputs": [
    {
     "name": "stdout",
     "output_type": "stream",
     "text": [
      "Enter First Number: 4\n",
      "Enter 2nd Number: 5\n",
      "Second Number is Greater\n"
     ]
    }
   ],
   "source": [
    "num1=int(input(\"Enter First Number: \"))\n",
    "num2=int(input(\"Enter 2nd Number: \"))\n",
    "\n",
    "\n",
    "if(num1>num2):\n",
    "    print(\"First Number  is Greater \")\n",
    "else:\n",
    "    print(\"Second Number is Greater\")\n",
    "    \n"
   ]
  },
  {
   "cell_type": "code",
   "execution_count": 9,
   "metadata": {},
   "outputs": [
    {
     "name": "stdout",
     "output_type": "stream",
     "text": [
      "Number is Odd\n"
     ]
    }
   ],
   "source": [
    "if(num1%2==0):\n",
    "    print(\"Number is Even\")\n",
    "else:\n",
    "    print(\"Number is Odd\")"
   ]
  },
  {
   "cell_type": "code",
   "execution_count": 16,
   "metadata": {},
   "outputs": [
    {
     "name": "stdout",
     "output_type": "stream",
     "text": [
      "Enter Number: 4567\n"
     ]
    },
    {
     "data": {
      "text/plain": [
       "7"
      ]
     },
     "execution_count": 16,
     "metadata": {},
     "output_type": "execute_result"
    }
   ],
   "source": [
    "num3=int(input(\"Enter Number: \"))\n",
    "num3=str(num3)\n",
    "num3=num3[-1]\n",
    "int(num3)"
   ]
  },
  {
   "cell_type": "code",
   "execution_count": 18,
   "metadata": {},
   "outputs": [
    {
     "name": "stdout",
     "output_type": "stream",
     "text": [
      "Enter Number: 45678\n"
     ]
    },
    {
     "data": {
      "text/plain": [
       "8"
      ]
     },
     "execution_count": 18,
     "metadata": {},
     "output_type": "execute_result"
    }
   ],
   "source": [
    "num3=int(input(\"Enter Number: \")[-1])\n",
    "num3"
   ]
  },
  {
   "cell_type": "code",
   "execution_count": 21,
   "metadata": {},
   "outputs": [
    {
     "name": "stdout",
     "output_type": "stream",
     "text": [
      "Enter Number: 4567\n"
     ]
    },
    {
     "data": {
      "text/plain": [
       "45"
      ]
     },
     "execution_count": 21,
     "metadata": {},
     "output_type": "execute_result"
    }
   ],
   "source": [
    "num3=int(input(\"Enter Number: \"))\n",
    "num3//100"
   ]
  },
  {
   "cell_type": "code",
   "execution_count": 42,
   "metadata": {},
   "outputs": [
    {
     "name": "stdout",
     "output_type": "stream",
     "text": [
      "Enter Number: 23456778997654343\n",
      "23456778997654343\n",
      "17\n",
      "Number has more than 10 digits\n"
     ]
    }
   ],
   "source": [
    "num3=int(input(\"Enter Number: \"))\n",
    "num4=str(num3)\n",
    "print(num4)\n",
    "\n",
    "print(len(num4))\n",
    "if(len(num4)>10):\n",
    "    print(\"Number has more than 10 digits\")"
   ]
  },
  {
   "cell_type": "code",
   "execution_count": 51,
   "metadata": {},
   "outputs": [
    {
     "name": "stdout",
     "output_type": "stream",
     "text": [
      "Enter number 6\n",
      "You guessed 6 and machine guessed 3 you lost \n"
     ]
    }
   ],
   "source": [
    "import random\n",
    "guess=int(input(\"Enter number \"))\n",
    "num=random.randint(1,10)\n",
    "if(guess==num):\n",
    "    print(f\"You guessed {guess} and machine guessed {num} and you Win\")\n",
    "else:\n",
    "    print(f\"You guessed {guess} and machine guessed {num} you lost \")"
   ]
  },
  {
   "cell_type": "code",
   "execution_count": null,
   "metadata": {},
   "outputs": [],
   "source": [
    "import random\n",
    "guess=int(input(\"Enter number \"))\n",
    "num=random.randint(1,10)\n",
    "if(guess>num):\n",
    "    print(f\"You guessed {guess} and machine guessed {num} and you Win\")\n",
    "else:\n",
    "    print(f\"You guessed {guess} and machine guessed {num} you lost \")"
   ]
  },
  {
   "cell_type": "code",
   "execution_count": 7,
   "metadata": {},
   "outputs": [
    {
     "name": "stdout",
     "output_type": "stream",
     "text": [
      "Enter Amount you have: 112\n",
      "You have capicity to Buy Eggs\n"
     ]
    }
   ],
   "source": [
    "amount=int(input(\"Enter Amount you have: \"))\n",
    "           \n",
    "if(200<amount<1000):\n",
    "    print(\"You have Capicity to Buy Meat\")\n",
    "elif(100<amount<200):\n",
    "    print(\"You have capicity to Buy Eggs\")\n",
    "else:\n",
    "    print(\"You are unable to Buy anything \")"
   ]
  },
  {
   "cell_type": "code",
   "execution_count": 10,
   "metadata": {},
   "outputs": [
    {
     "name": "stdout",
     "output_type": "stream",
     "text": [
      "Enter Your Marks : 76\n",
      "Your marks are 76 and you have Achieved  B Grade\n"
     ]
    }
   ],
   "source": [
    "record={'Ali':234,'Ahmed':456,'imran':789}\n",
    "username=input(\"Enter Your Username: \")\n",
    "marks=int(input(\"Enter Your Marks : \"))\n",
    "if(marks>90):\n",
    "    print(f\"Your marks are {marks} and you have Achieved  A+ Grade\")\n",
    "elif(80<marks<90):\n",
    "    print(f\"Your marks are {marks} and you have Achieved  A Grade\")\n",
    "elif(70<marks<80):\n",
    "    print(f\"Your marks are {marks} and you have Achieved  B Grade\")\n",
    "elif(60<marks<70):\n",
    "    print(f\"Your marks are {marks} and you have Achieved  C Grade\")\n",
    "elif(50<marks<60):\n",
    "    print(f\"Your marks are {marks} and you have Achieved  D Grade\")\n",
    "else:\n",
    "    print(f\"Your marks are {marks} and You have not passed the Course\")\n",
    "    "
   ]
  },
  {
   "cell_type": "code",
   "execution_count": 3,
   "metadata": {},
   "outputs": [
    {
     "name": "stdout",
     "output_type": "stream",
     "text": [
      "Enter Your Username : imran\n",
      "you are not employee\n",
      "you are not employee\n",
      "you are employee\n"
     ]
    }
   ],
   "source": [
    "\n",
    "    \n"
   ]
  },
  {
   "cell_type": "code",
   "execution_count": null,
   "metadata": {},
   "outputs": [],
   "source": [
    "salery=int(input(\"Enter Your Salery : \"))\n",
    "service=int(input(\"Enter Year of service: \"))\n",
    "\n",
    "if(5<service<10):\n",
    "    bonus_amount=salery*0.05\n",
    "    total_credit=salery+bonus_amount\n",
    "    print(\"Bonus amount is: \",bonus_amount)\n",
    "    print(\"Total Credit amount is: \",total_credit)\n",
    "elif(10<service<15):\n",
    "    bonus_amount=salery*0.1\n",
    "    total_credit=salery+bonus_amount\n",
    "    print(\"Bonus amount is: \",bonus_amount)\n",
    "    print(\"Total Credit amount is: \",total_credit)\n",
    "if(service>15):\n",
    "    bonus_amount=salery*0.15\n",
    "    total_credit=salery+bonus_amount\n",
    "    print(\"Bonus amount is: \",bonus_amount)\n",
    "    print(\"Total Credit amount is: \",total_credit)\n",
    "\n"
   ]
  },
  {
   "cell_type": "code",
   "execution_count": 2,
   "metadata": {},
   "outputs": [
    {
     "name": "stdout",
     "output_type": "stream",
     "text": [
      "Enter No: of units consumed : 500\n",
      "Your Bill against 500 is :  5500\n"
     ]
    }
   ],
   "source": [
    "units=int(input(\"Enter No: of units consumed : \"))\n",
    "if(units<=100):\n",
    "    bill=units*5\n",
    "elif(units<=300):\n",
    "    bill=100*5 + (units-100)*10\n",
    "else:\n",
    "    bill=100*5+200*10 +(units-300)*15\n",
    "print(f\"Your Bill against {units} is : \",bill)   "
   ]
  },
  {
   "cell_type": "code",
   "execution_count": null,
   "metadata": {},
   "outputs": [],
   "source": []
  }
 ],
 "metadata": {
  "kernelspec": {
   "display_name": "Python 3",
   "language": "python",
   "name": "python3"
  },
  "language_info": {
   "codemirror_mode": {
    "name": "ipython",
    "version": 3
   },
   "file_extension": ".py",
   "mimetype": "text/x-python",
   "name": "python",
   "nbconvert_exporter": "python",
   "pygments_lexer": "ipython3",
   "version": "3.7.4"
  }
 },
 "nbformat": 4,
 "nbformat_minor": 2
}
