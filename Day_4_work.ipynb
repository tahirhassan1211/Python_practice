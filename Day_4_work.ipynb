{
 "cells": [
  {
   "cell_type": "markdown",
   "metadata": {},
   "source": [
    "## Control Statements"
   ]
  },
  {
   "cell_type": "code",
   "execution_count": 1,
   "metadata": {},
   "outputs": [],
   "source": [
    "#if   #else   # elif "
   ]
  },
  {
   "cell_type": "code",
   "execution_count": 2,
   "metadata": {},
   "outputs": [
    {
     "name": "stdout",
     "output_type": "stream",
     "text": [
      "Enter First Number: 4\n",
      "Enter 2nd Number: 7\n",
      "Second Number is Greater\n"
     ]
    }
   ],
   "source": [
    "num1=int(input(\"Enter First Number: \"))\n",
    "num2=int(input(\"Enter 2nd Number: \"))\n",
    "\n",
    "\n",
    "if(num1>num2):\n",
    "    print(\"First Number  is Greater \")\n",
    "else:\n",
    "    print(\"Second Number is Greater\")\n",
    "    \n"
   ]
  },
  {
   "cell_type": "code",
   "execution_count": 3,
   "metadata": {},
   "outputs": [
    {
     "name": "stdout",
     "output_type": "stream",
     "text": [
      "Number is Even\n"
     ]
    }
   ],
   "source": [
    "if(num1%2==0):\n",
    "    print(\"Number is Even\")\n",
    "else:\n",
    "    print(\"Number is Odd\")"
   ]
  },
  {
   "cell_type": "code",
   "execution_count": 4,
   "metadata": {},
   "outputs": [
    {
     "name": "stdout",
     "output_type": "stream",
     "text": [
      "Enter Number: 45678\n"
     ]
    },
    {
     "data": {
      "text/plain": [
       "8"
      ]
     },
     "execution_count": 4,
     "metadata": {},
     "output_type": "execute_result"
    }
   ],
   "source": [
    "num3=int(input(\"Enter Number: \"))\n",
    "num3=str(num3)\n",
    "num3=num3[-1]\n",
    "int(num3)"
   ]
  },
  {
   "cell_type": "code",
   "execution_count": 5,
   "metadata": {},
   "outputs": [
    {
     "name": "stdout",
     "output_type": "stream",
     "text": [
      "Enter Number: 4568\n"
     ]
    },
    {
     "data": {
      "text/plain": [
       "8"
      ]
     },
     "execution_count": 5,
     "metadata": {},
     "output_type": "execute_result"
    }
   ],
   "source": [
    "num3=int(input(\"Enter Number: \")[-1])\n",
    "num3"
   ]
  },
  {
   "cell_type": "code",
   "execution_count": 6,
   "metadata": {},
   "outputs": [
    {
     "name": "stdout",
     "output_type": "stream",
     "text": [
      "Enter Number: 345\n"
     ]
    },
    {
     "data": {
      "text/plain": [
       "3"
      ]
     },
     "execution_count": 6,
     "metadata": {},
     "output_type": "execute_result"
    }
   ],
   "source": [
    "num3=int(input(\"Enter Number: \"))\n",
    "num3//100"
   ]
  },
  {
   "cell_type": "code",
   "execution_count": 8,
   "metadata": {},
   "outputs": [
    {
     "name": "stdout",
     "output_type": "stream",
     "text": [
      "Enter Number: 34567\n",
      "34567\n",
      "5\n",
      "Number has less than 10 digits\n"
     ]
    }
   ],
   "source": [
    "num3=int(input(\"Enter Number: \"))\n",
    "num4=str(num3)\n",
    "print(num4)\n",
    "\n",
    "print(len(num4))\n",
    "if(len(num4)>10):\n",
    "    print(\"Number has more than 10 digits\")\n",
    "else:\n",
    "    print(\"Number has less than 10 digits\")"
   ]
  },
  {
   "cell_type": "code",
   "execution_count": 9,
   "metadata": {},
   "outputs": [
    {
     "name": "stdout",
     "output_type": "stream",
     "text": [
      "Enter number 4\n",
      "You guessed 4 and machine guessed 8 you lost \n"
     ]
    }
   ],
   "source": [
    "import random\n",
    "guess=int(input(\"Enter number \"))\n",
    "num=random.randint(1,10)\n",
    "if(guess==num):\n",
    "    print(f\"You guessed {guess} and machine guessed {num} and you Win\")\n",
    "else:\n",
    "    print(f\"You guessed {guess} and machine guessed {num} you lost \")"
   ]
  },
  {
   "cell_type": "code",
   "execution_count": 10,
   "metadata": {},
   "outputs": [
    {
     "name": "stdout",
     "output_type": "stream",
     "text": [
      "Enter number 7\n",
      "You guessed 7 and machine guessed 9 you lost \n"
     ]
    }
   ],
   "source": [
    "import random\n",
    "guess=int(input(\"Enter number \"))\n",
    "num=random.randint(1,10)\n",
    "if(guess>num):\n",
    "    print(f\"You guessed {guess} and machine guessed {num} and you Win\")\n",
    "else:\n",
    "    print(f\"You guessed {guess} and machine guessed {num} you lost \")"
   ]
  },
  {
   "cell_type": "code",
   "execution_count": null,
   "metadata": {},
   "outputs": [],
   "source": [
    "amount=int(input(\"Enter Amount you have: \"))\n",
    "           \n",
    "if(200<amount<1000):\n",
    "    print(\"You have Capicity to Buy Meat\")\n",
    "elif(100<amount<200):\n",
    "    print(\"You have capicity to Buy Eggs\")\n",
    "else:\n",
    "    print(\"You are unable to Buy anything \")"
   ]
  },
  {
   "cell_type": "code",
   "execution_count": 1,
   "metadata": {},
   "outputs": [
    {
     "name": "stdout",
     "output_type": "stream",
     "text": [
      "Enter Your Marks : 78\n",
      "Your marks are 78 and you have Achieved  B Grade\n"
     ]
    }
   ],
   "source": [
    "marks=int(input(\"Enter Your Marks : \"))\n",
    "if(marks>90):\n",
    "    print(f\"Your marks are {marks} and you have Achieved  A+ Grade\")\n",
    "elif(80<marks<90):\n",
    "    print(f\"Your marks are {marks} and you have Achieved  A Grade\")\n",
    "elif(70<marks<80):\n",
    "    print(f\"Your marks are {marks} and you have Achieved  B Grade\")\n",
    "elif(60<marks<70):\n",
    "    print(f\"Your marks are {marks} and you have Achieved  C Grade\")\n",
    "elif(50<marks<60):\n",
    "    print(f\"Your marks are {marks} and you have Achieved  D Grade\")\n",
    "else:\n",
    "    print(f\"Your marks are {marks} and You have not passed the Course\")\n",
    "    "
   ]
  },
  {
   "cell_type": "code",
   "execution_count": null,
   "metadata": {},
   "outputs": [],
   "source": [
    "\n",
    "    \n"
   ]
  },
  {
   "cell_type": "code",
   "execution_count": 2,
   "metadata": {},
   "outputs": [
    {
     "name": "stdout",
     "output_type": "stream",
     "text": [
      "Enter Your Salery : 50000\n",
      "Enter Year of service: 12\n",
      "Bonus amount is:  5000.0\n",
      "Total Credit amount is:  55000.0\n"
     ]
    }
   ],
   "source": [
    "salery=int(input(\"Enter Your Salery : \"))\n",
    "service=int(input(\"Enter Year of service: \"))\n",
    "\n",
    "if(5<service<10):\n",
    "    bonus_amount=salery*0.05\n",
    "    total_credit=salery+bonus_amount\n",
    "    print(\"Bonus amount is: \",bonus_amount)\n",
    "    print(\"Total Credit amount is: \",total_credit)\n",
    "elif(10<service<15):\n",
    "    bonus_amount=salery*0.1\n",
    "    total_credit=salery+bonus_amount\n",
    "    print(\"Bonus amount is: \",bonus_amount)\n",
    "    print(\"Total Credit amount is: \",total_credit)\n",
    "if(service>15):\n",
    "    bonus_amount=salery*0.15\n",
    "    total_credit=salery+bonus_amount\n",
    "    print(\"Bonus amount is: \",bonus_amount)\n",
    "    print(\"Total Credit amount is: \",total_credit)\n",
    "\n"
   ]
  },
  {
   "cell_type": "code",
   "execution_count": 3,
   "metadata": {},
   "outputs": [
    {
     "name": "stdout",
     "output_type": "stream",
     "text": [
      "Enter No: of units consumed : 310\n",
      "Your Bill against 310 is :  2650\n"
     ]
    }
   ],
   "source": [
    "units=int(input(\"Enter No: of units consumed : \"))\n",
    "if(units<=100):\n",
    "    bill=units*5\n",
    "elif(units<=300):\n",
    "    bill=100*5 + (units-100)*10\n",
    "else:\n",
    "    bill=100*5+200*10 +(units-300)*15\n",
    "print(f\"Your Bill against {units} is : \",bill)   "
   ]
  },
  {
   "cell_type": "code",
   "execution_count": null,
   "metadata": {},
   "outputs": [],
   "source": []
  }
 ],
 "metadata": {
  "kernelspec": {
   "display_name": "Python 3",
   "language": "python",
   "name": "python3"
  },
  "language_info": {
   "codemirror_mode": {
    "name": "ipython",
    "version": 3
   },
   "file_extension": ".py",
   "mimetype": "text/x-python",
   "name": "python",
   "nbconvert_exporter": "python",
   "pygments_lexer": "ipython3",
   "version": "3.7.4"
  }
 },
 "nbformat": 4,
 "nbformat_minor": 2
}
